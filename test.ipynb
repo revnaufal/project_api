{
 "cells": [
  {
   "cell_type": "code",
   "execution_count": 1,
   "id": "0330e75c",
   "metadata": {},
   "outputs": [
    {
     "name": "stdout",
     "output_type": "stream",
     "text": [
      "TEST PUSH AJHHH\n"
     ]
    }
   ],
   "source": [
    "print(\"TEST PUSH AJHHH\")"
   ]
  }
 ],
 "metadata": {
  "kernelspec": {
   "display_name": "rmt40",
   "language": "python",
   "name": "python3"
  },
  "language_info": {
   "codemirror_mode": {
    "name": "ipython",
    "version": 3
   },
   "file_extension": ".py",
   "mimetype": "text/x-python",
   "name": "python",
   "nbconvert_exporter": "python",
   "pygments_lexer": "ipython3",
   "version": "3.9.21"
  }
 },
 "nbformat": 4,
 "nbformat_minor": 5
}
